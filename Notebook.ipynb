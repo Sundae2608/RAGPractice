{
 "cells": [
  {
   "cell_type": "markdown",
   "id": "8497ba4d-1112-45d3-98db-1772ee888355",
   "metadata": {},
   "source": [
    "# Load the data"
   ]
  },
  {
   "cell_type": "code",
   "execution_count": 9,
   "id": "85b2d143-5f41-430a-b75e-5aac98ba1026",
   "metadata": {
    "tags": []
   },
   "outputs": [],
   "source": [
    "from llama_index.core import SimpleDirectoryReader"
   ]
  },
  {
   "cell_type": "code",
   "execution_count": 10,
   "id": "3b6f2b4b-2b6f-4e08-8a72-c1f7ba770147",
   "metadata": {
    "tags": []
   },
   "outputs": [],
   "source": [
    "loader = SimpleDirectoryReader(input_dir=\"./data\")\n",
    "documents = loader.load_data()"
   ]
  },
  {
   "cell_type": "markdown",
   "id": "bdbfb098-8637-4381-a854-9aed1b09cc04",
   "metadata": {},
   "source": [
    "# Chunk, Encode, and Store into a Vector Store\n",
    "\n",
    "This part basically loads a bunch of pipeline component."
   ]
  },
  {
   "cell_type": "code",
   "execution_count": 3,
   "id": "e2ead2a0-227c-4c9e-bbbe-537d7d89b365",
   "metadata": {
    "tags": []
   },
   "outputs": [],
   "source": [
    "from llama_index.core.ingestion import IngestionPipeline\n",
    "from llama_index.core.node_parser import SentenceSplitter\n",
    "from llama_index.embeddings.openai import OpenAIEmbedding\n",
    "from llama_index.vector_stores.qdrant import QdrantVectorStore\n",
    "import qdrant_client"
   ]
  },
  {
   "cell_type": "code",
   "execution_count": 6,
   "id": "7310edfe-f470-4d94-af53-c20595c2a99e",
   "metadata": {
    "tags": []
   },
   "outputs": [],
   "source": [
    "client = qdrant_client.QdrantClient(location=\":memory:\")\n",
    "vector_store = QdrantVectorStore(client=client, collection_name=\"test_store\")"
   ]
  },
  {
   "cell_type": "code",
   "execution_count": null,
   "id": "05d87d5a-86e5-4574-9eb4-9f93f8b9eb1d",
   "metadata": {
    "tags": []
   },
   "outputs": [],
   "source": [
    "pipeline = IngestionPipeline(\n",
    "    transformations = [\n",
    "        SentenceSplitter(),\n",
    "        OpenAIEmbedding(),\n",
    "    ],\n",
    "    vector_store = vector_store,\n",
    ")\n",
    "_nodes = pipeline.run(documents=documents, num_workers=4)"
   ]
  },
  {
   "cell_type": "code",
   "execution_count": null,
   "id": "e1b4e9d1-530d-4a25-9936-fdf0a721d8c2",
   "metadata": {},
   "outputs": [],
   "source": []
  }
 ],
 "metadata": {
  "kernelspec": {
   "display_name": "Python 3 (ipykernel)",
   "language": "python",
   "name": "python3"
  },
  "language_info": {
   "codemirror_mode": {
    "name": "ipython",
    "version": 3
   },
   "file_extension": ".py",
   "mimetype": "text/x-python",
   "name": "python",
   "nbconvert_exporter": "python",
   "pygments_lexer": "ipython3",
   "version": "3.11.5"
  }
 },
 "nbformat": 4,
 "nbformat_minor": 5
}
